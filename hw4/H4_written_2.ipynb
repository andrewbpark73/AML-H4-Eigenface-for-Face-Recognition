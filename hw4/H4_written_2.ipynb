{
 "cells": [
  {
   "cell_type": "code",
   "execution_count": 1,
   "metadata": {},
   "outputs": [
    {
     "name": "stdout",
     "output_type": "stream",
     "text": [
      "Matrix M^T M:\n",
      " [[ 39  57  60]\n",
      " [ 57 118  53]\n",
      " [ 60  53 127]]\n",
      "Matrix M M^T:\n",
      " [[ 10   9  26   3  26]\n",
      " [  9  62   8  -5  85]\n",
      " [ 26   8  72  10  50]\n",
      " [  3  -5  10   2  -1]\n",
      " [ 26  85  50  -1 138]]\n"
     ]
    }
   ],
   "source": [
    "import numpy as np\n",
    "\n",
    "# Creating the matrix M\n",
    "M = np.array([[1, 0, 3],\n",
    "              [3, 7, 2],\n",
    "              [2, -2, 8],\n",
    "              [0, -1, 1],\n",
    "              [5, 8, 7]])\n",
    "\n",
    "# Compute M^T M\n",
    "MTM = np.dot(M.T, M)\n",
    "\n",
    "# Compute M M^T\n",
    "MMT = np.dot(M, M.T)\n",
    "\n",
    "print(\"Matrix M^T M:\\n\", MTM)\n",
    "print(\"Matrix M M^T:\\n\", MMT)"
   ]
  },
  {
   "cell_type": "code",
   "execution_count": 2,
   "metadata": {},
   "outputs": [
    {
     "name": "stdout",
     "output_type": "stream",
     "text": [
      "Eigenvalues of M^T M: [ 2.14670489e+02 -1.33871866e-14  6.93295108e+01]\n",
      "Eigenvalues of M M^T: [ 2.14670489e+02 -4.13378832e-15  6.93295108e+01 -3.28163351e-15\n",
      " -4.10937465e-16]\n"
     ]
    }
   ],
   "source": [
    "# Eigenvalues for M^T M\n",
    "eigenvalues_MTM, _ = np.linalg.eig(MTM)\n",
    "print(\"Eigenvalues of M^T M:\", eigenvalues_MTM)\n",
    "\n",
    "# Eigenvalues for M M^T\n",
    "eigenvalues_MMT, _ = np.linalg.eig(MMT)\n",
    "print(\"Eigenvalues of M M^T:\", eigenvalues_MMT)"
   ]
  },
  {
   "cell_type": "code",
   "execution_count": 3,
   "metadata": {},
   "outputs": [
    {
     "name": "stdout",
     "output_type": "stream",
     "text": [
      "Eigenvectors of M^T M:\n",
      " [[ 0.42615127  0.90453403 -0.01460404]\n",
      " [ 0.61500884 -0.30151134 -0.72859799]\n",
      " [ 0.66344497 -0.30151134  0.68478587]]\n",
      "Eigenvectors of M M^T:\n",
      " [[-0.16492942 -0.95539856  0.24497323 -0.83645189  0.14590955]\n",
      " [-0.47164732 -0.03481209 -0.45330644  0.32249423 -0.1726319 ]\n",
      " [-0.33647055  0.27076072  0.82943965  0.40049076  0.06871429]\n",
      " [-0.00330585  0.04409532  0.16974659 -0.03474164 -0.97055978]\n",
      " [-0.79820031  0.10366268 -0.13310656 -0.18640247  0.04691152]]\n"
     ]
    }
   ],
   "source": [
    "# Eigenvectors for M^T M\n",
    "_, eigenvectors_MTM = np.linalg.eig(MTM)\n",
    "print(\"Eigenvectors of M^T M:\\n\", eigenvectors_MTM)\n",
    "\n",
    "# Eigenvectors for M M^T\n",
    "_, eigenvectors_MMT = np.linalg.eig(MMT)\n",
    "print(\"Eigenvectors of M M^T:\\n\", eigenvectors_MMT)"
   ]
  },
  {
   "cell_type": "code",
   "execution_count": 4,
   "metadata": {},
   "outputs": [
    {
     "name": "stdout",
     "output_type": "stream",
     "text": [
      "Matrix U:\n",
      " [[-0.16492942 -0.95539856]\n",
      " [-0.47164732 -0.03481209]\n",
      " [-0.33647055  0.27076072]\n",
      " [-0.00330585  0.04409532]\n",
      " [-0.79820031  0.10366268]]\n",
      "Matrix Sigma:\n",
      " [[14.65163776  0.        ]\n",
      " [ 0.          8.32643446]]\n",
      "Matrix V:\n",
      " [[ 0.42615127  0.90453403]\n",
      " [ 0.61500884 -0.30151134]\n",
      " [ 0.66344497 -0.30151134]]\n"
     ]
    }
   ],
   "source": [
    "# Singular values from the nonzero eigenvalues of MTM\n",
    "singular_values = np.sqrt(eigenvalues_MTM[eigenvalues_MTM > 1e-10])  # Applying a threshold for numerical stability\n",
    "\n",
    "# Constructing Sigma\n",
    "Sigma = np.diag(singular_values)\n",
    "\n",
    "# Constructing U and V (Using only the first two eigenvectors corresponding to the nonzero eigenvalues)\n",
    "U = eigenvectors_MMT[:, :2]\n",
    "V = eigenvectors_MTM[:, :2]\n",
    "\n",
    "print(\"Matrix U:\\n\", U)\n",
    "print(\"Matrix Sigma:\\n\", Sigma)\n",
    "print(\"Matrix V:\\n\", V)\n"
   ]
  },
  {
   "cell_type": "code",
   "execution_count": 5,
   "metadata": {},
   "outputs": [
    {
     "name": "stdout",
     "output_type": "stream",
     "text": [
      "One-dimensional approximation of M:\n",
      " [[-1.02978864 -1.48616035 -1.60320558]\n",
      " [-2.94487812 -4.24996055 -4.58467382]\n",
      " [-2.10085952 -3.031898   -3.27068057]\n",
      " [-0.02064112 -0.02978864 -0.0321347 ]\n",
      " [-4.9838143  -7.19249261 -7.75895028]]\n"
     ]
    }
   ],
   "source": [
    "# Keep only the largest singular value\n",
    "Sigma_1D = np.diag([singular_values[0], 0])\n",
    "\n",
    "# Approximate M in 1D\n",
    "M_approx_1D = np.dot(U, np.dot(Sigma_1D, V.T))\n",
    "\n",
    "print(\"One-dimensional approximation of M:\\n\", M_approx_1D)\n"
   ]
  },
  {
   "cell_type": "code",
   "execution_count": null,
   "metadata": {},
   "outputs": [],
   "source": []
  }
 ],
 "metadata": {
  "kernelspec": {
   "display_name": "Python 3",
   "language": "python",
   "name": "python3"
  },
  "language_info": {
   "codemirror_mode": {
    "name": "ipython",
    "version": 3
   },
   "file_extension": ".py",
   "mimetype": "text/x-python",
   "name": "python",
   "nbconvert_exporter": "python",
   "pygments_lexer": "ipython3",
   "version": "3.11.6"
  }
 },
 "nbformat": 4,
 "nbformat_minor": 2
}
